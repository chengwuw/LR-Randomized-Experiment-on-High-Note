{
  "nbformat": 4,
  "nbformat_minor": 0,
  "metadata": {
    "kernelspec": {
      "display_name": "Python",
      "language": "python",
      "name": "conda-env-python-py"
    },
    "language_info": {
      "codemirror_mode": {
        "name": "ipython",
        "version": 3
      },
      "file_extension": ".py",
      "mimetype": "text/x-python",
      "name": "python",
      "nbconvert_exporter": "python",
      "pygments_lexer": "ipython3",
      "version": "3.6.10"
    },
    "colab": {
      "name": "PY0101EN-3-2-Loops.ipynb",
      "provenance": [],
      "collapsed_sections": [],
      "include_colab_link": true
    }
  },
  "cells": [
    {
      "cell_type": "markdown",
      "metadata": {
        "id": "view-in-github",
        "colab_type": "text"
      },
      "source": [
        "<a href=\"https://colab.research.google.com/github/chengwuw/LR-Randomized-Experiment-on-High-Note/blob/main/PY0101EN_3_2_Loops.ipynb\" target=\"_parent\"><img src=\"https://colab.research.google.com/assets/colab-badge.svg\" alt=\"Open In Colab\"/></a>"
      ]
    },
    {
      "cell_type": "markdown",
      "metadata": {
        "id": "TmdooQ4o66eg"
      },
      "source": [
        "<h1>Loops in Python</h1>"
      ]
    },
    {
      "cell_type": "markdown",
      "metadata": {
        "id": "9uUWlQOa66eh"
      },
      "source": [
        "<p><strong>Welcome!</strong> This notebook will teach you about the loops in the Python Programming Language. By the end of this lab, you'll know how to use the loop statements in Python, including for loop, and while loop.</p>"
      ]
    },
    {
      "cell_type": "markdown",
      "metadata": {
        "id": "7Sv-d66D66eh"
      },
      "source": [
        "<div class=\"alert alert-block alert-info\" style=\"margin-top: 20px\">\n",
        "    <a href=\"https://cocl.us/topNotebooksPython101Coursera\">\n",
        "         <img src=\"https://s3-api.us-geo.objectstorage.softlayer.net/cf-courses-data/CognitiveClass/PY0101EN/Ad/TopAd.png\" width=\"750\" align=\"center\">\n",
        "    </a>\n",
        "</div>"
      ]
    },
    {
      "cell_type": "markdown",
      "metadata": {
        "id": "pdxH4Q_466ei"
      },
      "source": [
        "<h2>Table of Contents</h2>\n",
        "<div class=\"alert alert-block alert-info\" style=\"margin-top: 20px\">\n",
        "    <ul>\n",
        "        <li>\n",
        "            <a href=\"#loop\">Loops</a>\n",
        "            <ul>\n",
        "                <li><a href=\"range\">Range</a></li>\n",
        "                <li><a href=\"for\">What is <code>for</code> loop?</a></li>\n",
        "                <li><a href=\"while\">What is <code>while</code> loop?</a></li>\n",
        "            </ul>\n",
        "        </li>\n",
        "        <li>\n",
        "            <a href=\"#quiz\">Quiz on Loops</a>\n",
        "        </li>\n",
        "    </ul>\n",
        "    <p>\n",
        "        Estimated time needed: <strong>20 min</strong>\n",
        "    </p>\n",
        "</div>\n",
        "\n",
        "<hr>"
      ]
    },
    {
      "cell_type": "markdown",
      "metadata": {
        "id": "aS_KIhUb66ei"
      },
      "source": [
        "<h2 id=\"loop\">Loops</h2>"
      ]
    },
    {
      "cell_type": "markdown",
      "metadata": {
        "id": "ekIgsb8c66ei"
      },
      "source": [
        "<h3 id=\"range\">Range</h3>"
      ]
    },
    {
      "cell_type": "markdown",
      "metadata": {
        "id": "3Vb2sVhn66ej"
      },
      "source": [
        "Sometimes, you might want to repeat a given operation many times. Repeated executions like this are performed by <b>loops</b>. We will look at two types of loops, <code>for</code> loops and <code>while</code> loops.\n",
        "\n",
        "Before we discuss loops lets discuss the <code>range</code> object. It is helpful to think of the range object as an ordered list. For now, let's look at the simplest case. If we would like to generate a sequence that contains three elements ordered from 0 to 2 we simply use the following command:"
      ]
    },
    {
      "cell_type": "code",
      "metadata": {
        "jupyter": {
          "outputs_hidden": false
        },
        "id": "gJTsIvp966ej"
      },
      "source": [
        "# Use the range\n",
        "\n",
        "range(3)"
      ],
      "execution_count": null,
      "outputs": []
    },
    {
      "cell_type": "markdown",
      "metadata": {
        "id": "ocszQEHy66ej"
      },
      "source": [
        "<img src=\"https://s3-api.us-geo.objectstorage.softlayer.net/cf-courses-data/CognitiveClass/PY0101EN/Chapter%203/Images/LoopsRange.png\" width=\"300\" />"
      ]
    },
    {
      "cell_type": "markdown",
      "metadata": {
        "id": "BYobCi6D66ek"
      },
      "source": [
        "<h3 id=\"for\">What is <code>for</code> loop?</h3>"
      ]
    },
    {
      "cell_type": "markdown",
      "metadata": {
        "id": "R7Drnidr66ek"
      },
      "source": [
        "The <code>for</code> loop enables you to execute a code block multiple times. For example, you would use this if you would like to print out every element in a list.    \n",
        "Let's try to use a <code>for</code> loop to print all the years presented in the list <code>dates</code>:"
      ]
    },
    {
      "cell_type": "markdown",
      "metadata": {
        "id": "ogb49JCQX2cr"
      },
      "source": [
        ""
      ]
    },
    {
      "cell_type": "markdown",
      "metadata": {
        "id": "MuJZOxVa66ek"
      },
      "source": [
        "This can be done as follows:"
      ]
    },
    {
      "cell_type": "code",
      "metadata": {
        "jupyter": {
          "outputs_hidden": false
        },
        "id": "xN5yrRWt66ek"
      },
      "source": [
        "# For loop example\n",
        "\n",
        "dates = [1982,1980,1973]\n",
        "N = len(dates)\n",
        "\n",
        "for i in range(N):\n",
        "    print(dates[i])     "
      ],
      "execution_count": null,
      "outputs": []
    },
    {
      "cell_type": "markdown",
      "metadata": {
        "id": "9QXCo6iT66ek"
      },
      "source": [
        "The code in the indent is executed <code>N</code> times, each time the value of <code>i</code> is increased by 1 for every execution. The statement executed is to <code>print</code> out the value in the list at index <code>i</code> as shown here:"
      ]
    },
    {
      "cell_type": "markdown",
      "metadata": {
        "id": "F131wxQr66el"
      },
      "source": [
        "<img src=\"https://s3-api.us-geo.objectstorage.softlayer.net/cf-courses-data/CognitiveClass/PY0101EN/Chapter%203/Images/LoopsForRange.gif\" width=\"800\" />"
      ]
    },
    {
      "cell_type": "markdown",
      "metadata": {
        "id": "T-0meVQ166el"
      },
      "source": [
        "In this example we can print out a sequence of numbers from 0 to 7:"
      ]
    },
    {
      "cell_type": "code",
      "metadata": {
        "jupyter": {
          "outputs_hidden": false
        },
        "id": "vnODVGo_66el"
      },
      "source": [
        "# Example of for loop\n",
        "\n",
        "for i in range(0, 8):\n",
        "    print(i)"
      ],
      "execution_count": null,
      "outputs": []
    },
    {
      "cell_type": "markdown",
      "metadata": {
        "id": "g6QQccDo66el"
      },
      "source": [
        "In Python we can directly access the elements in the list as follows: "
      ]
    },
    {
      "cell_type": "code",
      "metadata": {
        "jupyter": {
          "outputs_hidden": false
        },
        "id": "m-UiRwiU66em"
      },
      "source": [
        "# Exmaple of for loop, loop through list\n",
        "\n",
        "for year in dates:  \n",
        "    print(year)   "
      ],
      "execution_count": null,
      "outputs": []
    },
    {
      "cell_type": "markdown",
      "metadata": {
        "id": "85FxN3d366em"
      },
      "source": [
        "For each iteration, the value of the variable <code>years</code> behaves like the value of <code>dates[i]</code> in the  first example:"
      ]
    },
    {
      "cell_type": "markdown",
      "metadata": {
        "id": "3UN8Hf4V66em"
      },
      "source": [
        "<img src=\"https://s3-api.us-geo.objectstorage.softlayer.net/cf-courses-data/CognitiveClass/PY0101EN/Chapter%203/Images/LoopsForList.gif\" width=\"800\">"
      ]
    },
    {
      "cell_type": "markdown",
      "metadata": {
        "id": "CRuiOl4z66em"
      },
      "source": [
        "We can change the elements in a list:"
      ]
    },
    {
      "cell_type": "code",
      "metadata": {
        "jupyter": {
          "outputs_hidden": false
        },
        "id": "LFN1bjHT66em",
        "outputId": "b5f46796-23e4-490e-ba77-87946bca2e1f"
      },
      "source": [
        "# Use for loop to change the elements in list\n",
        "\n",
        "squares = ['red', 'yellow', 'green', 'purple', 'blue']\n",
        "\n",
        "for i in range(0, 5):\n",
        "    print(\"Before square \", i, 'is',  squares[i])\n",
        "    squares[i] = 'weight'\n",
        "    print(\"After square \", i, 'is',  squares[i])"
      ],
      "execution_count": null,
      "outputs": [
        {
          "output_type": "stream",
          "text": [
            "Before square  0 is red\n",
            "After square  0 is weight\n",
            "Before square  1 is yellow\n",
            "After square  1 is weight\n",
            "Before square  2 is green\n",
            "After square  2 is weight\n",
            "Before square  3 is purple\n",
            "After square  3 is weight\n",
            "Before square  4 is blue\n",
            "After square  4 is weight\n"
          ],
          "name": "stdout"
        }
      ]
    },
    {
      "cell_type": "markdown",
      "metadata": {
        "id": "OKZ6X6yd66en"
      },
      "source": [
        " We can access the index and the elements of a list as follows: "
      ]
    },
    {
      "cell_type": "code",
      "metadata": {
        "jupyter": {
          "outputs_hidden": false
        },
        "id": "ALfo0n7I66en"
      },
      "source": [
        "# Loop through the list and iterate on both index and element value\n",
        "\n",
        "squares=['red', 'yellow', 'green', 'purple', 'blue']\n",
        "\n",
        "for i, square in enumerate(squares):\n",
        "    print(i, square)"
      ],
      "execution_count": null,
      "outputs": []
    },
    {
      "cell_type": "markdown",
      "metadata": {
        "id": "eyXkVXHj66en"
      },
      "source": [
        "<h3 id=\"while\">What is <code>while</code> loop?</h3>"
      ]
    },
    {
      "cell_type": "markdown",
      "metadata": {
        "id": "ChtbN65266en"
      },
      "source": [
        "As you can see, the <code>for</code> loop is used for a controlled flow of repetition. However, what if we don't know when we want to stop the loop? What if we want to keep executing a code block until a certain condition is met? The <code>while</code> loop exists as a tool for repeated execution based on a condition. The code block will keep being executed until the given logical condition returns a **False** boolean value.\n"
      ]
    },
    {
      "cell_type": "markdown",
      "metadata": {
        "id": "KJYCo1uU66en"
      },
      "source": [
        "Let’s say we would like to iterate through list <code>dates</code> and stop at the year 1973, then print out the number of iterations. This can be done with the following block of code:"
      ]
    },
    {
      "cell_type": "code",
      "metadata": {
        "jupyter": {
          "outputs_hidden": false
        },
        "id": "QdMVTtHb66en"
      },
      "source": [
        "# While Loop Example\n",
        "\n",
        "dates = [1982, 1980, 1973, 2000]\n",
        "\n",
        "i = 0\n",
        "year = 0\n",
        "\n",
        "while(year != 1973):\n",
        "    year = dates[i]\n",
        "    i = i + 1\n",
        "    print(year)\n",
        "\n",
        "print(\"It took \", i ,\"repetitions to get out of loop.\")"
      ],
      "execution_count": null,
      "outputs": []
    },
    {
      "cell_type": "markdown",
      "metadata": {
        "id": "Fg0x-1VC66eo"
      },
      "source": [
        "A while loop iterates merely until the condition in the argument is not  met, as shown in the following figure:"
      ]
    },
    {
      "cell_type": "code",
      "metadata": {
        "id": "OgYiz0i5Fc1s",
        "outputId": "51ee2ae6-c95d-4445-8cd3-72e51be7ecd5",
        "colab": {
          "base_uri": "https://localhost:8080/"
        }
      },
      "source": [
        "i = 1\n",
        "print('it took',i)\n",
        "print(f'it took {i} ')"
      ],
      "execution_count": 4,
      "outputs": [
        {
          "output_type": "stream",
          "text": [
            "it took 1\n",
            "it took 1 \n"
          ],
          "name": "stdout"
        }
      ]
    },
    {
      "cell_type": "markdown",
      "metadata": {
        "id": "d-VYS8Dz66eo"
      },
      "source": [
        "<img src=\"https://s3-api.us-geo.objectstorage.softlayer.net/cf-courses-data/CognitiveClass/PY0101EN/Chapter%203/Images/LoopsWhile.gif\" width=\"650\" />"
      ]
    },
    {
      "cell_type": "markdown",
      "metadata": {
        "id": "q8mFgJSh66eo"
      },
      "source": [
        "<hr>"
      ]
    },
    {
      "cell_type": "markdown",
      "metadata": {
        "id": "t_D3p0lx66eo"
      },
      "source": [
        "<h2 id=\"quiz\">Quiz on Loops</h2>"
      ]
    },
    {
      "cell_type": "markdown",
      "metadata": {
        "id": "b7VNKBM066eo"
      },
      "source": [
        "Write a <code>for</code> loop the prints out all the element between <b>-5</b> and <b>5</b> using the range function."
      ]
    },
    {
      "cell_type": "code",
      "metadata": {
        "id": "AU24FOVB66eo"
      },
      "source": [
        "# Write your code below and press Shift+Enter to execute"
      ],
      "execution_count": null,
      "outputs": []
    },
    {
      "cell_type": "markdown",
      "metadata": {
        "id": "f81SulCm66ep"
      },
      "source": [
        "Double-click __here__ for the solution.\n",
        "<!-- \n",
        "for i in range(-5, 6):\n",
        "    print(i)\n",
        "-->"
      ]
    },
    {
      "cell_type": "markdown",
      "metadata": {
        "id": "5jTWf4UP66ep"
      },
      "source": [
        "Print the elements of the following list:\n",
        "<code>Genres=[ 'rock', 'R&B', 'Soundtrack', 'R&B', 'soul', 'pop']</code>\n",
        "Make sure you follow Python conventions."
      ]
    },
    {
      "cell_type": "code",
      "metadata": {
        "id": "sla2g7c066ep"
      },
      "source": [
        "# Write your code below and press Shift+Enter to execute"
      ],
      "execution_count": null,
      "outputs": []
    },
    {
      "cell_type": "markdown",
      "metadata": {
        "id": "mXFz0piZ66ep"
      },
      "source": [
        "Double-click __here__ for the solution.\n",
        "<!-- \n",
        "Genres = ['rock', 'R&B', 'Soundtrack', 'R&B', 'soul', 'pop']\n",
        "for Genre in Genres:\n",
        "    print(Genre)\n",
        "-->"
      ]
    },
    {
      "cell_type": "markdown",
      "metadata": {
        "id": "3R4NTC9l66ep"
      },
      "source": [
        "<hr>"
      ]
    },
    {
      "cell_type": "markdown",
      "metadata": {
        "id": "JfAVF7e266ep"
      },
      "source": [
        "Write a for loop that prints out the following list: <code>squares=['red', 'yellow', 'green', 'purple', 'blue']</code>"
      ]
    },
    {
      "cell_type": "code",
      "metadata": {
        "id": "rfN5GShD66ep"
      },
      "source": [
        "# Write your code below and press Shift+Enter to execute"
      ],
      "execution_count": null,
      "outputs": []
    },
    {
      "cell_type": "markdown",
      "metadata": {
        "id": "tasOkJ9c66eq"
      },
      "source": [
        "Double-click __here__ for the solution.\n",
        "<!-- \n",
        "squares=['red', 'yellow', 'green', 'purple', 'blue']\n",
        "for square in squares:\n",
        "    print(square)\n",
        " -->"
      ]
    },
    {
      "cell_type": "markdown",
      "metadata": {
        "id": "DwzLJ_yJ66eq"
      },
      "source": [
        "<hr>"
      ]
    },
    {
      "cell_type": "markdown",
      "metadata": {
        "id": "lGCZpj_p66eq"
      },
      "source": [
        "Write a while loop to display the values of the Rating of an album playlist stored in the list <code>PlayListRatings</code>. If the score is less than 6, exit the loop. The list <code>PlayListRatings</code> is given by: <code>PlayListRatings = [10, 9.5, 10, 8, 7.5, 5, 10, 10]</code>"
      ]
    },
    {
      "cell_type": "code",
      "metadata": {
        "collapsed": true,
        "jupyter": {
          "outputs_hidden": true
        },
        "id": "6OF3k8sN66eq"
      },
      "source": [
        "# Write your code below and press Shift+Enter to execute"
      ],
      "execution_count": null,
      "outputs": []
    },
    {
      "cell_type": "markdown",
      "metadata": {
        "id": "HBg0BBzI66eq"
      },
      "source": [
        "Double-click __here__ for the solution.\n",
        "<!-- \n",
        "PlayListRatings = [10, 9.5, 10, 8, 7.5, 5, 10, 10]\n",
        "i = 1\n",
        "Rating = PlayListRatings[0]\n",
        "while(Rating >= 6):\n",
        "    print(Rating)\n",
        "    Rating = PlayListRatings[i]\n",
        "    i = i + 1\n",
        " -->"
      ]
    },
    {
      "cell_type": "markdown",
      "metadata": {
        "id": "lig75ZOs66eq"
      },
      "source": [
        "<hr>"
      ]
    },
    {
      "cell_type": "markdown",
      "metadata": {
        "id": "R8psO34a66eq"
      },
      "source": [
        "Write a while loop to copy the strings <code>'orange'</code> of the list <code>squares</code> to the list <code>new_squares</code>. Stop and exit the loop if the value on the list is not <code>'orange'</code>:"
      ]
    },
    {
      "cell_type": "code",
      "metadata": {
        "jupyter": {
          "outputs_hidden": false
        },
        "id": "pWdllldR66er"
      },
      "source": [
        "# Write your code below and press Shift+Enter to execute\n",
        "\n",
        "squares = ['orange', 'orange', 'purple', 'blue ', 'orange']\n",
        "new_squares = []"
      ],
      "execution_count": null,
      "outputs": []
    },
    {
      "cell_type": "markdown",
      "metadata": {
        "id": "OF-5Rlwe66er"
      },
      "source": [
        "Double-click __here__ for the solution.\n",
        "<!-- \n",
        "squares = ['orange', 'orange', 'purple', 'blue ', 'orange']\n",
        "new_squares = []\n",
        "i = 0\n",
        "while(squares[i] == 'orange'):\n",
        "    new_squares.append(squares[i])\n",
        "    i = i + 1\n",
        "print (new_squares)\n",
        " -->"
      ]
    },
    {
      "cell_type": "markdown",
      "metadata": {
        "id": "GmcsGDD566er"
      },
      "source": [
        "<hr>\n",
        "<h2>The last exercise!</h2>\n",
        "<p>Congratulations, you have completed your first lesson and hands-on lab in Python. However, there is one more thing you need to do. The Data Science community encourages sharing work. The best way to share and showcase your work is to share it on GitHub. By sharing your notebook on GitHub you are not only building your reputation with fellow data scientists, but you can also show it off when applying for a job. Even though this was your first piece of work, it is never too early to start building good habits. So, please read and follow <a href=\"https://cognitiveclass.ai/blog/data-scientists-stand-out-by-sharing-your-notebooks/\" target=\"_blank\">this article</a> to learn how to share your work.\n",
        "<hr>"
      ]
    }
  ]
}